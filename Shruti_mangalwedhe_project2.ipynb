{
 "cells": [
  {
   "cell_type": "markdown",
   "id": "3b6f815d",
   "metadata": {},
   "source": [
    "### A project by  shruti"
   ]
  },
  {
   "cell_type": "markdown",
   "id": "7c015677",
   "metadata": {},
   "source": [
    "### Importing Required Librarires"
   ]
  },
  {
   "cell_type": "code",
   "execution_count": 3,
   "id": "afd45bf9",
   "metadata": {},
   "outputs": [],
   "source": [
    "import pandas as pd\n",
    "import numpy as np\n",
    "import matplotlib.pyplot as plt\n",
    "import seaborn as sns\n",
    "from sklearn.model_selection import train_test_split\n",
    "from sklearn.ensemble import RandomForestClassifier\n"
   ]
  },
  {
   "cell_type": "markdown",
   "id": "6528570d",
   "metadata": {},
   "source": [
    "### Loading Data"
   ]
  },
  {
   "cell_type": "code",
   "execution_count": 10,
   "id": "c5c79884",
   "metadata": {},
   "outputs": [],
   "source": [
    "df=pd.read_csv(\"https://raw.githubusercontent.com/Premalatha-success/Datasets/main/h1n1_vaccine_prediction.csv\")"
   ]
  },
  {
   "cell_type": "code",
   "execution_count": 11,
   "id": "4e8dabb9",
   "metadata": {},
   "outputs": [
    {
     "data": {
      "text/html": [
       "<div>\n",
       "<style scoped>\n",
       "    .dataframe tbody tr th:only-of-type {\n",
       "        vertical-align: middle;\n",
       "    }\n",
       "\n",
       "    .dataframe tbody tr th {\n",
       "        vertical-align: top;\n",
       "    }\n",
       "\n",
       "    .dataframe thead th {\n",
       "        text-align: right;\n",
       "    }\n",
       "</style>\n",
       "<table border=\"1\" class=\"dataframe\">\n",
       "  <thead>\n",
       "    <tr style=\"text-align: right;\">\n",
       "      <th></th>\n",
       "      <th>unique_id</th>\n",
       "      <th>h1n1_worry</th>\n",
       "      <th>h1n1_awareness</th>\n",
       "      <th>antiviral_medication</th>\n",
       "      <th>contact_avoidance</th>\n",
       "      <th>bought_face_mask</th>\n",
       "      <th>wash_hands_frequently</th>\n",
       "      <th>avoid_large_gatherings</th>\n",
       "      <th>reduced_outside_home_cont</th>\n",
       "      <th>avoid_touch_face</th>\n",
       "      <th>...</th>\n",
       "      <th>race</th>\n",
       "      <th>sex</th>\n",
       "      <th>income_level</th>\n",
       "      <th>marital_status</th>\n",
       "      <th>housing_status</th>\n",
       "      <th>employment</th>\n",
       "      <th>census_msa</th>\n",
       "      <th>no_of_adults</th>\n",
       "      <th>no_of_children</th>\n",
       "      <th>h1n1_vaccine</th>\n",
       "    </tr>\n",
       "  </thead>\n",
       "  <tbody>\n",
       "    <tr>\n",
       "      <th>0</th>\n",
       "      <td>0</td>\n",
       "      <td>1.0</td>\n",
       "      <td>0.0</td>\n",
       "      <td>0.0</td>\n",
       "      <td>0.0</td>\n",
       "      <td>0.0</td>\n",
       "      <td>0.0</td>\n",
       "      <td>0.0</td>\n",
       "      <td>1.0</td>\n",
       "      <td>1.0</td>\n",
       "      <td>...</td>\n",
       "      <td>White</td>\n",
       "      <td>Female</td>\n",
       "      <td>Below Poverty</td>\n",
       "      <td>Not Married</td>\n",
       "      <td>Own</td>\n",
       "      <td>Not in Labor Force</td>\n",
       "      <td>Non-MSA</td>\n",
       "      <td>0.0</td>\n",
       "      <td>0.0</td>\n",
       "      <td>0</td>\n",
       "    </tr>\n",
       "    <tr>\n",
       "      <th>1</th>\n",
       "      <td>1</td>\n",
       "      <td>3.0</td>\n",
       "      <td>2.0</td>\n",
       "      <td>0.0</td>\n",
       "      <td>1.0</td>\n",
       "      <td>0.0</td>\n",
       "      <td>1.0</td>\n",
       "      <td>0.0</td>\n",
       "      <td>1.0</td>\n",
       "      <td>1.0</td>\n",
       "      <td>...</td>\n",
       "      <td>White</td>\n",
       "      <td>Male</td>\n",
       "      <td>Below Poverty</td>\n",
       "      <td>Not Married</td>\n",
       "      <td>Rent</td>\n",
       "      <td>Employed</td>\n",
       "      <td>MSA, Not Principle  City</td>\n",
       "      <td>0.0</td>\n",
       "      <td>0.0</td>\n",
       "      <td>0</td>\n",
       "    </tr>\n",
       "    <tr>\n",
       "      <th>2</th>\n",
       "      <td>2</td>\n",
       "      <td>1.0</td>\n",
       "      <td>1.0</td>\n",
       "      <td>0.0</td>\n",
       "      <td>1.0</td>\n",
       "      <td>0.0</td>\n",
       "      <td>0.0</td>\n",
       "      <td>0.0</td>\n",
       "      <td>0.0</td>\n",
       "      <td>0.0</td>\n",
       "      <td>...</td>\n",
       "      <td>White</td>\n",
       "      <td>Male</td>\n",
       "      <td>&lt;= $75,000, Above Poverty</td>\n",
       "      <td>Not Married</td>\n",
       "      <td>Own</td>\n",
       "      <td>Employed</td>\n",
       "      <td>MSA, Not Principle  City</td>\n",
       "      <td>2.0</td>\n",
       "      <td>0.0</td>\n",
       "      <td>0</td>\n",
       "    </tr>\n",
       "    <tr>\n",
       "      <th>3</th>\n",
       "      <td>3</td>\n",
       "      <td>1.0</td>\n",
       "      <td>1.0</td>\n",
       "      <td>0.0</td>\n",
       "      <td>1.0</td>\n",
       "      <td>0.0</td>\n",
       "      <td>1.0</td>\n",
       "      <td>1.0</td>\n",
       "      <td>0.0</td>\n",
       "      <td>0.0</td>\n",
       "      <td>...</td>\n",
       "      <td>White</td>\n",
       "      <td>Female</td>\n",
       "      <td>Below Poverty</td>\n",
       "      <td>Not Married</td>\n",
       "      <td>Rent</td>\n",
       "      <td>Not in Labor Force</td>\n",
       "      <td>MSA, Principle City</td>\n",
       "      <td>0.0</td>\n",
       "      <td>0.0</td>\n",
       "      <td>0</td>\n",
       "    </tr>\n",
       "    <tr>\n",
       "      <th>4</th>\n",
       "      <td>4</td>\n",
       "      <td>2.0</td>\n",
       "      <td>1.0</td>\n",
       "      <td>0.0</td>\n",
       "      <td>1.0</td>\n",
       "      <td>0.0</td>\n",
       "      <td>1.0</td>\n",
       "      <td>1.0</td>\n",
       "      <td>0.0</td>\n",
       "      <td>1.0</td>\n",
       "      <td>...</td>\n",
       "      <td>White</td>\n",
       "      <td>Female</td>\n",
       "      <td>&lt;= $75,000, Above Poverty</td>\n",
       "      <td>Married</td>\n",
       "      <td>Own</td>\n",
       "      <td>Employed</td>\n",
       "      <td>MSA, Not Principle  City</td>\n",
       "      <td>1.0</td>\n",
       "      <td>0.0</td>\n",
       "      <td>0</td>\n",
       "    </tr>\n",
       "  </tbody>\n",
       "</table>\n",
       "<p>5 rows × 34 columns</p>\n",
       "</div>"
      ],
      "text/plain": [
       "   unique_id  h1n1_worry  h1n1_awareness  antiviral_medication  \\\n",
       "0          0         1.0             0.0                   0.0   \n",
       "1          1         3.0             2.0                   0.0   \n",
       "2          2         1.0             1.0                   0.0   \n",
       "3          3         1.0             1.0                   0.0   \n",
       "4          4         2.0             1.0                   0.0   \n",
       "\n",
       "   contact_avoidance  bought_face_mask  wash_hands_frequently  \\\n",
       "0                0.0               0.0                    0.0   \n",
       "1                1.0               0.0                    1.0   \n",
       "2                1.0               0.0                    0.0   \n",
       "3                1.0               0.0                    1.0   \n",
       "4                1.0               0.0                    1.0   \n",
       "\n",
       "   avoid_large_gatherings  reduced_outside_home_cont  avoid_touch_face  ...  \\\n",
       "0                     0.0                        1.0               1.0  ...   \n",
       "1                     0.0                        1.0               1.0  ...   \n",
       "2                     0.0                        0.0               0.0  ...   \n",
       "3                     1.0                        0.0               0.0  ...   \n",
       "4                     1.0                        0.0               1.0  ...   \n",
       "\n",
       "    race     sex               income_level  marital_status  housing_status  \\\n",
       "0  White  Female              Below Poverty     Not Married             Own   \n",
       "1  White    Male              Below Poverty     Not Married            Rent   \n",
       "2  White    Male  <= $75,000, Above Poverty     Not Married             Own   \n",
       "3  White  Female              Below Poverty     Not Married            Rent   \n",
       "4  White  Female  <= $75,000, Above Poverty         Married             Own   \n",
       "\n",
       "           employment                census_msa  no_of_adults  no_of_children  \\\n",
       "0  Not in Labor Force                   Non-MSA           0.0             0.0   \n",
       "1            Employed  MSA, Not Principle  City           0.0             0.0   \n",
       "2            Employed  MSA, Not Principle  City           2.0             0.0   \n",
       "3  Not in Labor Force       MSA, Principle City           0.0             0.0   \n",
       "4            Employed  MSA, Not Principle  City           1.0             0.0   \n",
       "\n",
       "   h1n1_vaccine  \n",
       "0             0  \n",
       "1             0  \n",
       "2             0  \n",
       "3             0  \n",
       "4             0  \n",
       "\n",
       "[5 rows x 34 columns]"
      ]
     },
     "execution_count": 11,
     "metadata": {},
     "output_type": "execute_result"
    }
   ],
   "source": [
    "df.head()"
   ]
  },
  {
   "cell_type": "code",
   "execution_count": 12,
   "id": "0c5c4de8",
   "metadata": {},
   "outputs": [],
   "source": [
    "# Variable for number of models used\n",
    "count = 0\n",
    "\n",
    "sc1tr= sc2tr= sc3tr= sc4tr= sc5tr= sc6tr= sc7tr= sc8tr= sc9tr= sc10tr= sc11tr= sc12tr= sc13tr = 0\n",
    "sc1ts= sc2ts= sc3ts= sc4ts= sc5ts= sc6ts= sc7ts= sc8ts = sc9ts= sc10ts= sc11ts= sc12ts= sc13ts = 0"
   ]
  },
  {
   "cell_type": "markdown",
   "id": "aae70b48",
   "metadata": {},
   "source": [
    "<p>Notes: </p>\n",
    "<ol>\n",
    "<li>The model can be run on both scaled and unscaled data by just commenting/uncommenting train_test_split.</li>\n",
    "<li>You can exclude a model by just commenting its code and output wont be affected.</li>\n",
    "</ol>"
   ]
  },
  {
   "cell_type": "markdown",
   "id": "5fb115a8",
   "metadata": {},
   "source": [
    "### Exploratory Data Analysis"
   ]
  },
  {
   "cell_type": "markdown",
   "id": "0eb34705",
   "metadata": {},
   "source": [
    "### 1) Numerical Analysis"
   ]
  },
  {
   "cell_type": "code",
   "execution_count": 13,
   "id": "401a73cf",
   "metadata": {},
   "outputs": [],
   "source": [
    "# df.drop('Unnamed: 0', axis= 1, inplace= True)"
   ]
  },
  {
   "cell_type": "code",
   "execution_count": 14,
   "id": "42b1fa58",
   "metadata": {},
   "outputs": [
    {
     "data": {
      "text/plain": [
       "(26707, 34)"
      ]
     },
     "execution_count": 14,
     "metadata": {},
     "output_type": "execute_result"
    }
   ],
   "source": [
    "df.shape"
   ]
  },
  {
   "cell_type": "code",
   "execution_count": 15,
   "id": "75ecfbb6",
   "metadata": {},
   "outputs": [
    {
     "data": {
      "text/html": [
       "<div>\n",
       "<style scoped>\n",
       "    .dataframe tbody tr th:only-of-type {\n",
       "        vertical-align: middle;\n",
       "    }\n",
       "\n",
       "    .dataframe tbody tr th {\n",
       "        vertical-align: top;\n",
       "    }\n",
       "\n",
       "    .dataframe thead th {\n",
       "        text-align: right;\n",
       "    }\n",
       "</style>\n",
       "<table border=\"1\" class=\"dataframe\">\n",
       "  <thead>\n",
       "    <tr style=\"text-align: right;\">\n",
       "      <th></th>\n",
       "      <th>count</th>\n",
       "      <th>unique</th>\n",
       "      <th>top</th>\n",
       "      <th>freq</th>\n",
       "      <th>mean</th>\n",
       "      <th>std</th>\n",
       "      <th>min</th>\n",
       "      <th>25%</th>\n",
       "      <th>50%</th>\n",
       "      <th>75%</th>\n",
       "      <th>max</th>\n",
       "    </tr>\n",
       "  </thead>\n",
       "  <tbody>\n",
       "    <tr>\n",
       "      <th>unique_id</th>\n",
       "      <td>26707.0</td>\n",
       "      <td>NaN</td>\n",
       "      <td>NaN</td>\n",
       "      <td>NaN</td>\n",
       "      <td>13353.0</td>\n",
       "      <td>7709.791156</td>\n",
       "      <td>0.0</td>\n",
       "      <td>6676.5</td>\n",
       "      <td>13353.0</td>\n",
       "      <td>20029.5</td>\n",
       "      <td>26706.0</td>\n",
       "    </tr>\n",
       "    <tr>\n",
       "      <th>h1n1_worry</th>\n",
       "      <td>26615.0</td>\n",
       "      <td>NaN</td>\n",
       "      <td>NaN</td>\n",
       "      <td>NaN</td>\n",
       "      <td>1.618486</td>\n",
       "      <td>0.910311</td>\n",
       "      <td>0.0</td>\n",
       "      <td>1.0</td>\n",
       "      <td>2.0</td>\n",
       "      <td>2.0</td>\n",
       "      <td>3.0</td>\n",
       "    </tr>\n",
       "    <tr>\n",
       "      <th>h1n1_awareness</th>\n",
       "      <td>26591.0</td>\n",
       "      <td>NaN</td>\n",
       "      <td>NaN</td>\n",
       "      <td>NaN</td>\n",
       "      <td>1.262532</td>\n",
       "      <td>0.618149</td>\n",
       "      <td>0.0</td>\n",
       "      <td>1.0</td>\n",
       "      <td>1.0</td>\n",
       "      <td>2.0</td>\n",
       "      <td>2.0</td>\n",
       "    </tr>\n",
       "    <tr>\n",
       "      <th>antiviral_medication</th>\n",
       "      <td>26636.0</td>\n",
       "      <td>NaN</td>\n",
       "      <td>NaN</td>\n",
       "      <td>NaN</td>\n",
       "      <td>0.048844</td>\n",
       "      <td>0.215545</td>\n",
       "      <td>0.0</td>\n",
       "      <td>0.0</td>\n",
       "      <td>0.0</td>\n",
       "      <td>0.0</td>\n",
       "      <td>1.0</td>\n",
       "    </tr>\n",
       "    <tr>\n",
       "      <th>contact_avoidance</th>\n",
       "      <td>26499.0</td>\n",
       "      <td>NaN</td>\n",
       "      <td>NaN</td>\n",
       "      <td>NaN</td>\n",
       "      <td>0.725612</td>\n",
       "      <td>0.446214</td>\n",
       "      <td>0.0</td>\n",
       "      <td>0.0</td>\n",
       "      <td>1.0</td>\n",
       "      <td>1.0</td>\n",
       "      <td>1.0</td>\n",
       "    </tr>\n",
       "    <tr>\n",
       "      <th>bought_face_mask</th>\n",
       "      <td>26688.0</td>\n",
       "      <td>NaN</td>\n",
       "      <td>NaN</td>\n",
       "      <td>NaN</td>\n",
       "      <td>0.068982</td>\n",
       "      <td>0.253429</td>\n",
       "      <td>0.0</td>\n",
       "      <td>0.0</td>\n",
       "      <td>0.0</td>\n",
       "      <td>0.0</td>\n",
       "      <td>1.0</td>\n",
       "    </tr>\n",
       "    <tr>\n",
       "      <th>wash_hands_frequently</th>\n",
       "      <td>26665.0</td>\n",
       "      <td>NaN</td>\n",
       "      <td>NaN</td>\n",
       "      <td>NaN</td>\n",
       "      <td>0.825614</td>\n",
       "      <td>0.379448</td>\n",
       "      <td>0.0</td>\n",
       "      <td>1.0</td>\n",
       "      <td>1.0</td>\n",
       "      <td>1.0</td>\n",
       "      <td>1.0</td>\n",
       "    </tr>\n",
       "    <tr>\n",
       "      <th>avoid_large_gatherings</th>\n",
       "      <td>26620.0</td>\n",
       "      <td>NaN</td>\n",
       "      <td>NaN</td>\n",
       "      <td>NaN</td>\n",
       "      <td>0.35864</td>\n",
       "      <td>0.47961</td>\n",
       "      <td>0.0</td>\n",
       "      <td>0.0</td>\n",
       "      <td>0.0</td>\n",
       "      <td>1.0</td>\n",
       "      <td>1.0</td>\n",
       "    </tr>\n",
       "    <tr>\n",
       "      <th>reduced_outside_home_cont</th>\n",
       "      <td>26625.0</td>\n",
       "      <td>NaN</td>\n",
       "      <td>NaN</td>\n",
       "      <td>NaN</td>\n",
       "      <td>0.337315</td>\n",
       "      <td>0.472802</td>\n",
       "      <td>0.0</td>\n",
       "      <td>0.0</td>\n",
       "      <td>0.0</td>\n",
       "      <td>1.0</td>\n",
       "      <td>1.0</td>\n",
       "    </tr>\n",
       "    <tr>\n",
       "      <th>avoid_touch_face</th>\n",
       "      <td>26579.0</td>\n",
       "      <td>NaN</td>\n",
       "      <td>NaN</td>\n",
       "      <td>NaN</td>\n",
       "      <td>0.677264</td>\n",
       "      <td>0.467531</td>\n",
       "      <td>0.0</td>\n",
       "      <td>0.0</td>\n",
       "      <td>1.0</td>\n",
       "      <td>1.0</td>\n",
       "      <td>1.0</td>\n",
       "    </tr>\n",
       "    <tr>\n",
       "      <th>dr_recc_h1n1_vacc</th>\n",
       "      <td>24547.0</td>\n",
       "      <td>NaN</td>\n",
       "      <td>NaN</td>\n",
       "      <td>NaN</td>\n",
       "      <td>0.220312</td>\n",
       "      <td>0.414466</td>\n",
       "      <td>0.0</td>\n",
       "      <td>0.0</td>\n",
       "      <td>0.0</td>\n",
       "      <td>0.0</td>\n",
       "      <td>1.0</td>\n",
       "    </tr>\n",
       "    <tr>\n",
       "      <th>dr_recc_seasonal_vacc</th>\n",
       "      <td>24547.0</td>\n",
       "      <td>NaN</td>\n",
       "      <td>NaN</td>\n",
       "      <td>NaN</td>\n",
       "      <td>0.329735</td>\n",
       "      <td>0.470126</td>\n",
       "      <td>0.0</td>\n",
       "      <td>0.0</td>\n",
       "      <td>0.0</td>\n",
       "      <td>1.0</td>\n",
       "      <td>1.0</td>\n",
       "    </tr>\n",
       "    <tr>\n",
       "      <th>chronic_medic_condition</th>\n",
       "      <td>25736.0</td>\n",
       "      <td>NaN</td>\n",
       "      <td>NaN</td>\n",
       "      <td>NaN</td>\n",
       "      <td>0.283261</td>\n",
       "      <td>0.450591</td>\n",
       "      <td>0.0</td>\n",
       "      <td>0.0</td>\n",
       "      <td>0.0</td>\n",
       "      <td>1.0</td>\n",
       "      <td>1.0</td>\n",
       "    </tr>\n",
       "    <tr>\n",
       "      <th>cont_child_undr_6_mnths</th>\n",
       "      <td>25887.0</td>\n",
       "      <td>NaN</td>\n",
       "      <td>NaN</td>\n",
       "      <td>NaN</td>\n",
       "      <td>0.08259</td>\n",
       "      <td>0.275266</td>\n",
       "      <td>0.0</td>\n",
       "      <td>0.0</td>\n",
       "      <td>0.0</td>\n",
       "      <td>0.0</td>\n",
       "      <td>1.0</td>\n",
       "    </tr>\n",
       "    <tr>\n",
       "      <th>is_health_worker</th>\n",
       "      <td>25903.0</td>\n",
       "      <td>NaN</td>\n",
       "      <td>NaN</td>\n",
       "      <td>NaN</td>\n",
       "      <td>0.111918</td>\n",
       "      <td>0.315271</td>\n",
       "      <td>0.0</td>\n",
       "      <td>0.0</td>\n",
       "      <td>0.0</td>\n",
       "      <td>0.0</td>\n",
       "      <td>1.0</td>\n",
       "    </tr>\n",
       "    <tr>\n",
       "      <th>has_health_insur</th>\n",
       "      <td>14433.0</td>\n",
       "      <td>NaN</td>\n",
       "      <td>NaN</td>\n",
       "      <td>NaN</td>\n",
       "      <td>0.87972</td>\n",
       "      <td>0.3253</td>\n",
       "      <td>0.0</td>\n",
       "      <td>1.0</td>\n",
       "      <td>1.0</td>\n",
       "      <td>1.0</td>\n",
       "      <td>1.0</td>\n",
       "    </tr>\n",
       "    <tr>\n",
       "      <th>is_h1n1_vacc_effective</th>\n",
       "      <td>26316.0</td>\n",
       "      <td>NaN</td>\n",
       "      <td>NaN</td>\n",
       "      <td>NaN</td>\n",
       "      <td>3.850623</td>\n",
       "      <td>1.007436</td>\n",
       "      <td>1.0</td>\n",
       "      <td>3.0</td>\n",
       "      <td>4.0</td>\n",
       "      <td>5.0</td>\n",
       "      <td>5.0</td>\n",
       "    </tr>\n",
       "    <tr>\n",
       "      <th>is_h1n1_risky</th>\n",
       "      <td>26319.0</td>\n",
       "      <td>NaN</td>\n",
       "      <td>NaN</td>\n",
       "      <td>NaN</td>\n",
       "      <td>2.342566</td>\n",
       "      <td>1.285539</td>\n",
       "      <td>1.0</td>\n",
       "      <td>1.0</td>\n",
       "      <td>2.0</td>\n",
       "      <td>4.0</td>\n",
       "      <td>5.0</td>\n",
       "    </tr>\n",
       "    <tr>\n",
       "      <th>sick_from_h1n1_vacc</th>\n",
       "      <td>26312.0</td>\n",
       "      <td>NaN</td>\n",
       "      <td>NaN</td>\n",
       "      <td>NaN</td>\n",
       "      <td>2.35767</td>\n",
       "      <td>1.362766</td>\n",
       "      <td>1.0</td>\n",
       "      <td>1.0</td>\n",
       "      <td>2.0</td>\n",
       "      <td>4.0</td>\n",
       "      <td>5.0</td>\n",
       "    </tr>\n",
       "    <tr>\n",
       "      <th>is_seas_vacc_effective</th>\n",
       "      <td>26245.0</td>\n",
       "      <td>NaN</td>\n",
       "      <td>NaN</td>\n",
       "      <td>NaN</td>\n",
       "      <td>4.025986</td>\n",
       "      <td>1.086565</td>\n",
       "      <td>1.0</td>\n",
       "      <td>4.0</td>\n",
       "      <td>4.0</td>\n",
       "      <td>5.0</td>\n",
       "      <td>5.0</td>\n",
       "    </tr>\n",
       "    <tr>\n",
       "      <th>is_seas_risky</th>\n",
       "      <td>26193.0</td>\n",
       "      <td>NaN</td>\n",
       "      <td>NaN</td>\n",
       "      <td>NaN</td>\n",
       "      <td>2.719162</td>\n",
       "      <td>1.385055</td>\n",
       "      <td>1.0</td>\n",
       "      <td>2.0</td>\n",
       "      <td>2.0</td>\n",
       "      <td>4.0</td>\n",
       "      <td>5.0</td>\n",
       "    </tr>\n",
       "    <tr>\n",
       "      <th>sick_from_seas_vacc</th>\n",
       "      <td>26170.0</td>\n",
       "      <td>NaN</td>\n",
       "      <td>NaN</td>\n",
       "      <td>NaN</td>\n",
       "      <td>2.118112</td>\n",
       "      <td>1.33295</td>\n",
       "      <td>1.0</td>\n",
       "      <td>1.0</td>\n",
       "      <td>2.0</td>\n",
       "      <td>4.0</td>\n",
       "      <td>5.0</td>\n",
       "    </tr>\n",
       "    <tr>\n",
       "      <th>age_bracket</th>\n",
       "      <td>26707</td>\n",
       "      <td>5</td>\n",
       "      <td>65+ Years</td>\n",
       "      <td>6843</td>\n",
       "      <td>NaN</td>\n",
       "      <td>NaN</td>\n",
       "      <td>NaN</td>\n",
       "      <td>NaN</td>\n",
       "      <td>NaN</td>\n",
       "      <td>NaN</td>\n",
       "      <td>NaN</td>\n",
       "    </tr>\n",
       "    <tr>\n",
       "      <th>qualification</th>\n",
       "      <td>25300</td>\n",
       "      <td>4</td>\n",
       "      <td>College Graduate</td>\n",
       "      <td>10097</td>\n",
       "      <td>NaN</td>\n",
       "      <td>NaN</td>\n",
       "      <td>NaN</td>\n",
       "      <td>NaN</td>\n",
       "      <td>NaN</td>\n",
       "      <td>NaN</td>\n",
       "      <td>NaN</td>\n",
       "    </tr>\n",
       "    <tr>\n",
       "      <th>race</th>\n",
       "      <td>26707</td>\n",
       "      <td>4</td>\n",
       "      <td>White</td>\n",
       "      <td>21222</td>\n",
       "      <td>NaN</td>\n",
       "      <td>NaN</td>\n",
       "      <td>NaN</td>\n",
       "      <td>NaN</td>\n",
       "      <td>NaN</td>\n",
       "      <td>NaN</td>\n",
       "      <td>NaN</td>\n",
       "    </tr>\n",
       "    <tr>\n",
       "      <th>sex</th>\n",
       "      <td>26707</td>\n",
       "      <td>2</td>\n",
       "      <td>Female</td>\n",
       "      <td>15858</td>\n",
       "      <td>NaN</td>\n",
       "      <td>NaN</td>\n",
       "      <td>NaN</td>\n",
       "      <td>NaN</td>\n",
       "      <td>NaN</td>\n",
       "      <td>NaN</td>\n",
       "      <td>NaN</td>\n",
       "    </tr>\n",
       "    <tr>\n",
       "      <th>income_level</th>\n",
       "      <td>22284</td>\n",
       "      <td>3</td>\n",
       "      <td>&lt;= $75,000, Above Poverty</td>\n",
       "      <td>12777</td>\n",
       "      <td>NaN</td>\n",
       "      <td>NaN</td>\n",
       "      <td>NaN</td>\n",
       "      <td>NaN</td>\n",
       "      <td>NaN</td>\n",
       "      <td>NaN</td>\n",
       "      <td>NaN</td>\n",
       "    </tr>\n",
       "    <tr>\n",
       "      <th>marital_status</th>\n",
       "      <td>25299</td>\n",
       "      <td>2</td>\n",
       "      <td>Married</td>\n",
       "      <td>13555</td>\n",
       "      <td>NaN</td>\n",
       "      <td>NaN</td>\n",
       "      <td>NaN</td>\n",
       "      <td>NaN</td>\n",
       "      <td>NaN</td>\n",
       "      <td>NaN</td>\n",
       "      <td>NaN</td>\n",
       "    </tr>\n",
       "    <tr>\n",
       "      <th>housing_status</th>\n",
       "      <td>24665</td>\n",
       "      <td>2</td>\n",
       "      <td>Own</td>\n",
       "      <td>18736</td>\n",
       "      <td>NaN</td>\n",
       "      <td>NaN</td>\n",
       "      <td>NaN</td>\n",
       "      <td>NaN</td>\n",
       "      <td>NaN</td>\n",
       "      <td>NaN</td>\n",
       "      <td>NaN</td>\n",
       "    </tr>\n",
       "    <tr>\n",
       "      <th>employment</th>\n",
       "      <td>25244</td>\n",
       "      <td>3</td>\n",
       "      <td>Employed</td>\n",
       "      <td>13560</td>\n",
       "      <td>NaN</td>\n",
       "      <td>NaN</td>\n",
       "      <td>NaN</td>\n",
       "      <td>NaN</td>\n",
       "      <td>NaN</td>\n",
       "      <td>NaN</td>\n",
       "      <td>NaN</td>\n",
       "    </tr>\n",
       "    <tr>\n",
       "      <th>census_msa</th>\n",
       "      <td>26707</td>\n",
       "      <td>3</td>\n",
       "      <td>MSA, Not Principle  City</td>\n",
       "      <td>11645</td>\n",
       "      <td>NaN</td>\n",
       "      <td>NaN</td>\n",
       "      <td>NaN</td>\n",
       "      <td>NaN</td>\n",
       "      <td>NaN</td>\n",
       "      <td>NaN</td>\n",
       "      <td>NaN</td>\n",
       "    </tr>\n",
       "    <tr>\n",
       "      <th>no_of_adults</th>\n",
       "      <td>26458.0</td>\n",
       "      <td>NaN</td>\n",
       "      <td>NaN</td>\n",
       "      <td>NaN</td>\n",
       "      <td>0.886499</td>\n",
       "      <td>0.753422</td>\n",
       "      <td>0.0</td>\n",
       "      <td>0.0</td>\n",
       "      <td>1.0</td>\n",
       "      <td>1.0</td>\n",
       "      <td>3.0</td>\n",
       "    </tr>\n",
       "    <tr>\n",
       "      <th>no_of_children</th>\n",
       "      <td>26458.0</td>\n",
       "      <td>NaN</td>\n",
       "      <td>NaN</td>\n",
       "      <td>NaN</td>\n",
       "      <td>0.534583</td>\n",
       "      <td>0.928173</td>\n",
       "      <td>0.0</td>\n",
       "      <td>0.0</td>\n",
       "      <td>0.0</td>\n",
       "      <td>1.0</td>\n",
       "      <td>3.0</td>\n",
       "    </tr>\n",
       "    <tr>\n",
       "      <th>h1n1_vaccine</th>\n",
       "      <td>26707.0</td>\n",
       "      <td>NaN</td>\n",
       "      <td>NaN</td>\n",
       "      <td>NaN</td>\n",
       "      <td>0.212454</td>\n",
       "      <td>0.409052</td>\n",
       "      <td>0.0</td>\n",
       "      <td>0.0</td>\n",
       "      <td>0.0</td>\n",
       "      <td>0.0</td>\n",
       "      <td>1.0</td>\n",
       "    </tr>\n",
       "  </tbody>\n",
       "</table>\n",
       "</div>"
      ],
      "text/plain": [
       "                             count unique                        top   freq  \\\n",
       "unique_id                  26707.0    NaN                        NaN    NaN   \n",
       "h1n1_worry                 26615.0    NaN                        NaN    NaN   \n",
       "h1n1_awareness             26591.0    NaN                        NaN    NaN   \n",
       "antiviral_medication       26636.0    NaN                        NaN    NaN   \n",
       "contact_avoidance          26499.0    NaN                        NaN    NaN   \n",
       "bought_face_mask           26688.0    NaN                        NaN    NaN   \n",
       "wash_hands_frequently      26665.0    NaN                        NaN    NaN   \n",
       "avoid_large_gatherings     26620.0    NaN                        NaN    NaN   \n",
       "reduced_outside_home_cont  26625.0    NaN                        NaN    NaN   \n",
       "avoid_touch_face           26579.0    NaN                        NaN    NaN   \n",
       "dr_recc_h1n1_vacc          24547.0    NaN                        NaN    NaN   \n",
       "dr_recc_seasonal_vacc      24547.0    NaN                        NaN    NaN   \n",
       "chronic_medic_condition    25736.0    NaN                        NaN    NaN   \n",
       "cont_child_undr_6_mnths    25887.0    NaN                        NaN    NaN   \n",
       "is_health_worker           25903.0    NaN                        NaN    NaN   \n",
       "has_health_insur           14433.0    NaN                        NaN    NaN   \n",
       "is_h1n1_vacc_effective     26316.0    NaN                        NaN    NaN   \n",
       "is_h1n1_risky              26319.0    NaN                        NaN    NaN   \n",
       "sick_from_h1n1_vacc        26312.0    NaN                        NaN    NaN   \n",
       "is_seas_vacc_effective     26245.0    NaN                        NaN    NaN   \n",
       "is_seas_risky              26193.0    NaN                        NaN    NaN   \n",
       "sick_from_seas_vacc        26170.0    NaN                        NaN    NaN   \n",
       "age_bracket                  26707      5                  65+ Years   6843   \n",
       "qualification                25300      4           College Graduate  10097   \n",
       "race                         26707      4                      White  21222   \n",
       "sex                          26707      2                     Female  15858   \n",
       "income_level                 22284      3  <= $75,000, Above Poverty  12777   \n",
       "marital_status               25299      2                    Married  13555   \n",
       "housing_status               24665      2                        Own  18736   \n",
       "employment                   25244      3                   Employed  13560   \n",
       "census_msa                   26707      3   MSA, Not Principle  City  11645   \n",
       "no_of_adults               26458.0    NaN                        NaN    NaN   \n",
       "no_of_children             26458.0    NaN                        NaN    NaN   \n",
       "h1n1_vaccine               26707.0    NaN                        NaN    NaN   \n",
       "\n",
       "                               mean          std  min     25%      50%  \\\n",
       "unique_id                   13353.0  7709.791156  0.0  6676.5  13353.0   \n",
       "h1n1_worry                 1.618486     0.910311  0.0     1.0      2.0   \n",
       "h1n1_awareness             1.262532     0.618149  0.0     1.0      1.0   \n",
       "antiviral_medication       0.048844     0.215545  0.0     0.0      0.0   \n",
       "contact_avoidance          0.725612     0.446214  0.0     0.0      1.0   \n",
       "bought_face_mask           0.068982     0.253429  0.0     0.0      0.0   \n",
       "wash_hands_frequently      0.825614     0.379448  0.0     1.0      1.0   \n",
       "avoid_large_gatherings      0.35864      0.47961  0.0     0.0      0.0   \n",
       "reduced_outside_home_cont  0.337315     0.472802  0.0     0.0      0.0   \n",
       "avoid_touch_face           0.677264     0.467531  0.0     0.0      1.0   \n",
       "dr_recc_h1n1_vacc          0.220312     0.414466  0.0     0.0      0.0   \n",
       "dr_recc_seasonal_vacc      0.329735     0.470126  0.0     0.0      0.0   \n",
       "chronic_medic_condition    0.283261     0.450591  0.0     0.0      0.0   \n",
       "cont_child_undr_6_mnths     0.08259     0.275266  0.0     0.0      0.0   \n",
       "is_health_worker           0.111918     0.315271  0.0     0.0      0.0   \n",
       "has_health_insur            0.87972       0.3253  0.0     1.0      1.0   \n",
       "is_h1n1_vacc_effective     3.850623     1.007436  1.0     3.0      4.0   \n",
       "is_h1n1_risky              2.342566     1.285539  1.0     1.0      2.0   \n",
       "sick_from_h1n1_vacc         2.35767     1.362766  1.0     1.0      2.0   \n",
       "is_seas_vacc_effective     4.025986     1.086565  1.0     4.0      4.0   \n",
       "is_seas_risky              2.719162     1.385055  1.0     2.0      2.0   \n",
       "sick_from_seas_vacc        2.118112      1.33295  1.0     1.0      2.0   \n",
       "age_bracket                     NaN          NaN  NaN     NaN      NaN   \n",
       "qualification                   NaN          NaN  NaN     NaN      NaN   \n",
       "race                            NaN          NaN  NaN     NaN      NaN   \n",
       "sex                             NaN          NaN  NaN     NaN      NaN   \n",
       "income_level                    NaN          NaN  NaN     NaN      NaN   \n",
       "marital_status                  NaN          NaN  NaN     NaN      NaN   \n",
       "housing_status                  NaN          NaN  NaN     NaN      NaN   \n",
       "employment                      NaN          NaN  NaN     NaN      NaN   \n",
       "census_msa                      NaN          NaN  NaN     NaN      NaN   \n",
       "no_of_adults               0.886499     0.753422  0.0     0.0      1.0   \n",
       "no_of_children             0.534583     0.928173  0.0     0.0      0.0   \n",
       "h1n1_vaccine               0.212454     0.409052  0.0     0.0      0.0   \n",
       "\n",
       "                               75%      max  \n",
       "unique_id                  20029.5  26706.0  \n",
       "h1n1_worry                     2.0      3.0  \n",
       "h1n1_awareness                 2.0      2.0  \n",
       "antiviral_medication           0.0      1.0  \n",
       "contact_avoidance              1.0      1.0  \n",
       "bought_face_mask               0.0      1.0  \n",
       "wash_hands_frequently          1.0      1.0  \n",
       "avoid_large_gatherings         1.0      1.0  \n",
       "reduced_outside_home_cont      1.0      1.0  \n",
       "avoid_touch_face               1.0      1.0  \n",
       "dr_recc_h1n1_vacc              0.0      1.0  \n",
       "dr_recc_seasonal_vacc          1.0      1.0  \n",
       "chronic_medic_condition        1.0      1.0  \n",
       "cont_child_undr_6_mnths        0.0      1.0  \n",
       "is_health_worker               0.0      1.0  \n",
       "has_health_insur               1.0      1.0  \n",
       "is_h1n1_vacc_effective         5.0      5.0  \n",
       "is_h1n1_risky                  4.0      5.0  \n",
       "sick_from_h1n1_vacc            4.0      5.0  \n",
       "is_seas_vacc_effective         5.0      5.0  \n",
       "is_seas_risky                  4.0      5.0  \n",
       "sick_from_seas_vacc            4.0      5.0  \n",
       "age_bracket                    NaN      NaN  \n",
       "qualification                  NaN      NaN  \n",
       "race                           NaN      NaN  \n",
       "sex                            NaN      NaN  \n",
       "income_level                   NaN      NaN  \n",
       "marital_status                 NaN      NaN  \n",
       "housing_status                 NaN      NaN  \n",
       "employment                     NaN      NaN  \n",
       "census_msa                     NaN      NaN  \n",
       "no_of_adults                   1.0      3.0  \n",
       "no_of_children                 1.0      3.0  \n",
       "h1n1_vaccine                   0.0      1.0  "
      ]
     },
     "execution_count": 15,
     "metadata": {},
     "output_type": "execute_result"
    }
   ],
   "source": [
    "df.describe(include= 'all').T"
   ]
  },
  {
   "cell_type": "code",
   "execution_count": 16,
   "id": "2c907b7e",
   "metadata": {},
   "outputs": [
    {
     "name": "stdout",
     "output_type": "stream",
     "text": [
      "<class 'pandas.core.frame.DataFrame'>\n",
      "RangeIndex: 26707 entries, 0 to 26706\n",
      "Data columns (total 34 columns):\n",
      " #   Column                     Non-Null Count  Dtype  \n",
      "---  ------                     --------------  -----  \n",
      " 0   unique_id                  26707 non-null  int64  \n",
      " 1   h1n1_worry                 26615 non-null  float64\n",
      " 2   h1n1_awareness             26591 non-null  float64\n",
      " 3   antiviral_medication       26636 non-null  float64\n",
      " 4   contact_avoidance          26499 non-null  float64\n",
      " 5   bought_face_mask           26688 non-null  float64\n",
      " 6   wash_hands_frequently      26665 non-null  float64\n",
      " 7   avoid_large_gatherings     26620 non-null  float64\n",
      " 8   reduced_outside_home_cont  26625 non-null  float64\n",
      " 9   avoid_touch_face           26579 non-null  float64\n",
      " 10  dr_recc_h1n1_vacc          24547 non-null  float64\n",
      " 11  dr_recc_seasonal_vacc      24547 non-null  float64\n",
      " 12  chronic_medic_condition    25736 non-null  float64\n",
      " 13  cont_child_undr_6_mnths    25887 non-null  float64\n",
      " 14  is_health_worker           25903 non-null  float64\n",
      " 15  has_health_insur           14433 non-null  float64\n",
      " 16  is_h1n1_vacc_effective     26316 non-null  float64\n",
      " 17  is_h1n1_risky              26319 non-null  float64\n",
      " 18  sick_from_h1n1_vacc        26312 non-null  float64\n",
      " 19  is_seas_vacc_effective     26245 non-null  float64\n",
      " 20  is_seas_risky              26193 non-null  float64\n",
      " 21  sick_from_seas_vacc        26170 non-null  float64\n",
      " 22  age_bracket                26707 non-null  object \n",
      " 23  qualification              25300 non-null  object \n",
      " 24  race                       26707 non-null  object \n",
      " 25  sex                        26707 non-null  object \n",
      " 26  income_level               22284 non-null  object \n",
      " 27  marital_status             25299 non-null  object \n",
      " 28  housing_status             24665 non-null  object \n",
      " 29  employment                 25244 non-null  object \n",
      " 30  census_msa                 26707 non-null  object \n",
      " 31  no_of_adults               26458 non-null  float64\n",
      " 32  no_of_children             26458 non-null  float64\n",
      " 33  h1n1_vaccine               26707 non-null  int64  \n",
      "dtypes: float64(23), int64(2), object(9)\n",
      "memory usage: 6.9+ MB\n"
     ]
    }
   ],
   "source": [
    "df.info()"
   ]
  },
  {
   "cell_type": "code",
   "execution_count": 17,
   "id": "e2ff363f",
   "metadata": {},
   "outputs": [
    {
     "data": {
      "text/plain": [
       "unique_id                      int64\n",
       "h1n1_worry                   float64\n",
       "h1n1_awareness               float64\n",
       "antiviral_medication         float64\n",
       "contact_avoidance            float64\n",
       "bought_face_mask             float64\n",
       "wash_hands_frequently        float64\n",
       "avoid_large_gatherings       float64\n",
       "reduced_outside_home_cont    float64\n",
       "avoid_touch_face             float64\n",
       "dr_recc_h1n1_vacc            float64\n",
       "dr_recc_seasonal_vacc        float64\n",
       "chronic_medic_condition      float64\n",
       "cont_child_undr_6_mnths      float64\n",
       "is_health_worker             float64\n",
       "has_health_insur             float64\n",
       "is_h1n1_vacc_effective       float64\n",
       "is_h1n1_risky                float64\n",
       "sick_from_h1n1_vacc          float64\n",
       "is_seas_vacc_effective       float64\n",
       "is_seas_risky                float64\n",
       "sick_from_seas_vacc          float64\n",
       "age_bracket                   object\n",
       "qualification                 object\n",
       "race                          object\n",
       "sex                           object\n",
       "income_level                  object\n",
       "marital_status                object\n",
       "housing_status                object\n",
       "employment                    object\n",
       "census_msa                    object\n",
       "no_of_adults                 float64\n",
       "no_of_children               float64\n",
       "h1n1_vaccine                   int64\n",
       "dtype: object"
      ]
     },
     "execution_count": 17,
     "metadata": {},
     "output_type": "execute_result"
    }
   ],
   "source": [
    "df.dtypes"
   ]
  },
  {
   "cell_type": "markdown",
   "id": "7cb4bfb3",
   "metadata": {},
   "source": [
    "## 2) Data Visualiztion"
   ]
  },
  {
   "cell_type": "markdown",
   "id": "da19cb2f",
   "metadata": {},
   "source": [
    "### Univariate Analysis"
   ]
  },
  {
   "cell_type": "markdown",
   "id": "79b245cf",
   "metadata": {},
   "source": [
    "###### Number of passengers"
   ]
  },
  {
   "cell_type": "code",
   "execution_count": 22,
   "id": "a59dda99",
   "metadata": {
    "scrolled": true
   },
   "outputs": [
    {
     "data": {
      "text/plain": [
       "<AxesSubplot:xlabel='age_bracket', ylabel='Count'>"
      ]
     },
     "execution_count": 22,
     "metadata": {},
     "output_type": "execute_result"
    },
    {
     "data": {
      "image/png": "[encoded data removed]",
      "text/plain": [
       "<Figure size 720x360 with 1 Axes>"
      ]
     },
     "metadata": {
      "needs_background": "light"
     },
     "output_type": "display_data"
    }
   ],
   "source": [
    "plt.figure(figsize = (10,5))\n",
    "\n",
    "sns.histplot(x='age_bracket', data=df)"
   ]
  },
  {
   "cell_type": "markdown",
   "id": "36d5f835",
   "metadata": {},
   "source": [
    "### Multivariate Analysis"
   ]
  },
  {
   "cell_type": "code",
   "execution_count": 27,
   "id": "d138fac0",
   "metadata": {},
   "outputs": [
    {
     "data": {
      "text/plain": [
       "<AxesSubplot:>"
      ]
     },
     "execution_count": 27,
     "metadata": {},
     "output_type": "execute_result"
    },
    {
     "data": {
      "image/png": "[encoded data removed]",
      "text/plain": [
       "<Figure size 1080x576 with 2 Axes>"
      ]
     },
     "metadata": {
      "needs_background": "light"
     },
     "output_type": "display_data"
    }
   ],
   "source": [
    "plt.figure(figsize = (15, 8))\n",
    "corr = df.corr()\n",
    "sns.heatmap(corr, annot=True,cmap=\"YlGnBu\")"
   ]
  },
  {
   "cell_type": "markdown",
   "id": "be93ba22",
   "metadata": {},
   "source": [
    "### Data Cleaning"
   ]
  },
  {
   "cell_type": "markdown",
   "id": "3be7e664",
   "metadata": {},
   "source": [
    "##### 1) Missing Values"
   ]
  },
  {
   "cell_type": "code",
   "execution_count": 28,
   "id": "50b507e4",
   "metadata": {},
   "outputs": [
    {
     "data": {
      "text/plain": [
       "unique_id                        0\n",
       "h1n1_worry                      92\n",
       "h1n1_awareness                 116\n",
       "antiviral_medication            71\n",
       "contact_avoidance              208\n",
       "bought_face_mask                19\n",
       "wash_hands_frequently           42\n",
       "avoid_large_gatherings          87\n",
       "reduced_outside_home_cont       82\n",
       "avoid_touch_face               128\n",
       "dr_recc_h1n1_vacc             2160\n",
       "dr_recc_seasonal_vacc         2160\n",
       "chronic_medic_condition        971\n",
       "cont_child_undr_6_mnths        820\n",
       "is_health_worker               804\n",
       "has_health_insur             12274\n",
       "is_h1n1_vacc_effective         391\n",
       "is_h1n1_risky                  388\n",
       "sick_from_h1n1_vacc            395\n",
       "is_seas_vacc_effective         462\n",
       "is_seas_risky                  514\n",
       "sick_from_seas_vacc            537\n",
       "age_bracket                      0\n",
       "qualification                 1407\n",
       "race                             0\n",
       "sex                              0\n",
       "income_level                  4423\n",
       "marital_status                1408\n",
       "housing_status                2042\n",
       "employment                    1463\n",
       "census_msa                       0\n",
       "no_of_adults                   249\n",
       "no_of_children                 249\n",
       "h1n1_vaccine                     0\n",
       "dtype: int64"
      ]
     },
     "execution_count": 28,
     "metadata": {},
     "output_type": "execute_result"
    }
   ],
   "source": [
    "df.isnull().sum()"
   ]
  },
  {
   "cell_type": "markdown",
   "id": "c0b855db",
   "metadata": {},
   "source": [
    "The dataset has no missing values."
   ]
  },
  {
   "cell_type": "markdown",
   "id": "471ed181",
   "metadata": {},
   "source": [
    "##### 2) Duplicate Values"
   ]
  },
  {
   "cell_type": "code",
   "execution_count": 29,
   "id": "8da7a81f",
   "metadata": {},
   "outputs": [
    {
     "data": {
      "text/plain": [
       "0"
      ]
     },
     "execution_count": 29,
     "metadata": {},
     "output_type": "execute_result"
    }
   ],
   "source": [
    "df.duplicated().sum()"
   ]
  },
  {
   "cell_type": "markdown",
   "id": "0d6c2237",
   "metadata": {},
   "source": [
    "The dataset has no duplicated rows."
   ]
  },
  {
   "cell_type": "code",
   "execution_count": 30,
   "id": "62579f0e",
   "metadata": {},
   "outputs": [
    {
     "data": {
      "text/plain": [
       "(26707, 34)"
      ]
     },
     "execution_count": 30,
     "metadata": {},
     "output_type": "execute_result"
    }
   ],
   "source": [
    "lst = list(df.index)\n",
    "lst.count(16396)\n",
    "df.shape"
   ]
  },
  {
   "cell_type": "markdown",
   "id": "9da7ef31",
   "metadata": {},
   "source": [
    "#### Removing values with 0.00000 co-ordinates values"
   ]
  },
  {
   "cell_type": "code",
   "execution_count": 33,
   "id": "dbd2703f",
   "metadata": {},
   "outputs": [
    {
     "data": {
      "text/plain": [
       "(26707, 34)"
      ]
     },
     "execution_count": 33,
     "metadata": {},
     "output_type": "execute_result"
    }
   ],
   "source": [
    "df.shape"
   ]
  },
  {
   "cell_type": "code",
   "execution_count": 28,
   "id": "3e277c77",
   "metadata": {},
   "outputs": [
    {
     "data": {
      "text/plain": [
       "(49043, 8)"
      ]
     },
     "execution_count": 28,
     "metadata": {},
     "output_type": "execute_result"
    }
   ],
   "source": [
    "df.shape"
   ]
  },
  {
   "cell_type": "code",
   "execution_count": 30,
   "id": "608e1bd7",
   "metadata": {},
   "outputs": [
    {
     "data": {
      "text/plain": [
       "(49000, 8)"
      ]
     },
     "execution_count": 30,
     "metadata": {},
     "output_type": "execute_result"
    }
   ],
   "source": [
    "df.shape"
   ]
  },
  {
   "cell_type": "code",
   "execution_count": 35,
   "id": "fde26793",
   "metadata": {},
   "outputs": [
    {
     "data": {
      "text/plain": [
       "(26707, 34)"
      ]
     },
     "execution_count": 35,
     "metadata": {},
     "output_type": "execute_result"
    }
   ],
   "source": [
    "df.shape"
   ]
  },
  {
   "cell_type": "markdown",
   "id": "0e409eb1",
   "metadata": {},
   "source": [
    "#### Approximating latitudes and longitudes"
   ]
  },
  {
   "cell_type": "code",
   "execution_count": 37,
   "id": "4ff098c4",
   "metadata": {},
   "outputs": [],
   "source": [
    "import copy\n",
    "\n",
    "def approx_coordinates(df, column):\n",
    "    df = copy.copy(df)\n",
    "    df = df.sort_values([column])\n",
    "    loop_counter = len(df[column]) - 1\n",
    "    changed = 0\n",
    "    \n",
    "    for i in range(loop_counter):\n",
    "        diff = df[column].loc[i+1] - df[column].loc[i]\n",
    "        if(abs(diff) <= 0.000999):\n",
    "            df[column].loc[i+1] = df[column].loc[i]\n",
    "            changed = changed + 1\n",
    "    print(\"Total Changed:\", changed)\n",
    "    \n",
    "    return df[column]"
   ]
  },
  {
   "cell_type": "markdown",
   "id": "498bfd0d",
   "metadata": {},
   "source": [
    "##### 3) Removing outliers"
   ]
  },
  {
   "cell_type": "code",
   "execution_count": 39,
   "id": "d019dd18",
   "metadata": {},
   "outputs": [],
   "source": [
    "import copy\n",
    "\n",
    "def remove_outliers(df, column):\n",
    "    # IQR\n",
    "    Q1 = np.percentile(df[column], 25,\n",
    "                    interpolation = 'midpoint')\n",
    "\n",
    "    Q3 = np.percentile(df[column], 75,\n",
    "                    interpolation = 'midpoint')\n",
    "    IQR = Q3 - Q1\n",
    "\n",
    "    print(\"Old Shape: \", df.shape)\n",
    "    \n",
    "    # Upper bound\n",
    "    upper = np.where(df[column] >= (Q3+1.5*IQR))\n",
    "    df.drop(upper[0], inplace= True)\n",
    "    df.reset_index(inplace = True, drop = True)\n",
    "\n",
    "     # Lower bound\n",
    "    lower = np.where(df[column] <= (Q1-1.5*IQR))\n",
    "    df.drop(lower[0], inplace= True)\n",
    "    df.reset_index(inplace = True, drop = True)\n",
    "\n",
    "    print(\"New Shape: \", df.shape)\n",
    "    sns.boxplot(x=column, data=df)\n",
    "    \n",
    "    \n",
    "    return df"
   ]
  },
  {
   "cell_type": "markdown",
   "id": "a9403119",
   "metadata": {},
   "source": [
    "Removing outliers for ususual locations"
   ]
  },
  {
   "cell_type": "markdown",
   "id": "42a1a061",
   "metadata": {},
   "source": [
    "Outliers were not removed as the data is getting reduced significantly"
   ]
  },
  {
   "cell_type": "markdown",
   "id": "6f54c265",
   "metadata": {},
   "source": [
    "Removing less frequent passenger numbers"
   ]
  },
  {
   "cell_type": "code",
   "execution_count": 40,
   "id": "7731212b",
   "metadata": {},
   "outputs": [
    {
     "data": {
      "text/plain": [
       "(26707, 34)"
      ]
     },
     "execution_count": 40,
     "metadata": {},
     "output_type": "execute_result"
    }
   ],
   "source": [
    "df.shape"
   ]
  },
  {
   "cell_type": "markdown",
   "id": "5ce2541f",
   "metadata": {},
   "source": [
    "##### 4) Invalid Data"
   ]
  },
  {
   "cell_type": "code",
   "execution_count": 43,
   "id": "1cab7bc5",
   "metadata": {},
   "outputs": [],
   "source": [
    "# There are some negative amount values\n",
    "\n",
    "negative_amounts = np.where(df['contact_avoidance'] <= 0)\n",
    "df.drop(negative_amounts[0], inplace= True)\n",
    "df.reset_index(inplace = True, drop = True)"
   ]
  },
  {
   "cell_type": "code",
   "execution_count": 44,
   "id": "d4d849eb",
   "metadata": {},
   "outputs": [
    {
     "data": {
      "text/plain": [
       "(19436, 34)"
      ]
     },
     "execution_count": 44,
     "metadata": {},
     "output_type": "execute_result"
    }
   ],
   "source": [
    "df.shape"
   ]
  },
  {
   "cell_type": "markdown",
   "id": "21b40f22",
   "metadata": {},
   "source": [
    "### 3) Feature Engineering (Extracting time and day)"
   ]
  },
  {
   "cell_type": "code",
   "execution_count": 53,
   "id": "04ee1958",
   "metadata": {},
   "outputs": [
    {
     "data": {
      "text/plain": [
       "unique_id                object\n",
       "amount                  float64\n",
       "date_time_of_pickup      object\n",
       "longitude_of_pickup     float64\n",
       "latitude_of_pickup      float64\n",
       "longitude_of_dropoff    float64\n",
       "latitude_of_dropoff     float64\n",
       "no_of_passenger           int64\n",
       "dtype: object"
      ]
     },
     "execution_count": 53,
     "metadata": {},
     "output_type": "execute_result"
    }
   ],
   "source": [
    "df.dtypes"
   ]
  },
  {
   "cell_type": "code",
   "execution_count": 48,
   "id": "7f36d477",
   "metadata": {},
   "outputs": [
    {
     "data": {
      "text/plain": [
       "unique_id                      int64\n",
       "h1n1_worry                   float64\n",
       "h1n1_awareness               float64\n",
       "antiviral_medication         float64\n",
       "contact_avoidance            float64\n",
       "bought_face_mask             float64\n",
       "wash_hands_frequently        float64\n",
       "avoid_large_gatherings       float64\n",
       "reduced_outside_home_cont    float64\n",
       "avoid_touch_face             float64\n",
       "dr_recc_h1n1_vacc            float64\n",
       "dr_recc_seasonal_vacc        float64\n",
       "chronic_medic_condition      float64\n",
       "cont_child_undr_6_mnths      float64\n",
       "is_health_worker             float64\n",
       "has_health_insur             float64\n",
       "is_h1n1_vacc_effective       float64\n",
       "is_h1n1_risky                float64\n",
       "sick_from_h1n1_vacc          float64\n",
       "is_seas_vacc_effective       float64\n",
       "is_seas_risky                float64\n",
       "sick_from_seas_vacc          float64\n",
       "age_bracket                   object\n",
       "qualification                 object\n",
       "race                          object\n",
       "sex                           object\n",
       "income_level                  object\n",
       "marital_status                object\n",
       "housing_status                object\n",
       "employment                    object\n",
       "census_msa                    object\n",
       "no_of_adults                 float64\n",
       "no_of_children               float64\n",
       "h1n1_vaccine                   int64\n",
       "dtype: object"
      ]
     },
     "execution_count": 48,
     "metadata": {},
     "output_type": "execute_result"
    }
   ],
   "source": [
    "df.dtypes"
   ]
  },
  {
   "cell_type": "markdown",
   "id": "1588d2f8",
   "metadata": {},
   "source": [
    "##### We drop unique_id column as it is not required."
   ]
  },
  {
   "cell_type": "code",
   "execution_count": 51,
   "id": "2f327326",
   "metadata": {},
   "outputs": [
    {
     "data": {
      "text/html": [
       "<div>\n",
       "<style scoped>\n",
       "    .dataframe tbody tr th:only-of-type {\n",
       "        vertical-align: middle;\n",
       "    }\n",
       "\n",
       "    .dataframe tbody tr th {\n",
       "        vertical-align: top;\n",
       "    }\n",
       "\n",
       "    .dataframe thead th {\n",
       "        text-align: right;\n",
       "    }\n",
       "</style>\n",
       "<table border=\"1\" class=\"dataframe\">\n",
       "  <thead>\n",
       "    <tr style=\"text-align: right;\">\n",
       "      <th></th>\n",
       "      <th>unique_id</th>\n",
       "      <th>h1n1_worry</th>\n",
       "      <th>h1n1_awareness</th>\n",
       "      <th>antiviral_medication</th>\n",
       "      <th>contact_avoidance</th>\n",
       "      <th>bought_face_mask</th>\n",
       "      <th>wash_hands_frequently</th>\n",
       "      <th>avoid_large_gatherings</th>\n",
       "      <th>reduced_outside_home_cont</th>\n",
       "      <th>avoid_touch_face</th>\n",
       "      <th>...</th>\n",
       "      <th>race</th>\n",
       "      <th>sex</th>\n",
       "      <th>income_level</th>\n",
       "      <th>marital_status</th>\n",
       "      <th>housing_status</th>\n",
       "      <th>employment</th>\n",
       "      <th>census_msa</th>\n",
       "      <th>no_of_adults</th>\n",
       "      <th>no_of_children</th>\n",
       "      <th>h1n1_vaccine</th>\n",
       "    </tr>\n",
       "  </thead>\n",
       "  <tbody>\n",
       "    <tr>\n",
       "      <th>0</th>\n",
       "      <td>1</td>\n",
       "      <td>3.0</td>\n",
       "      <td>2.0</td>\n",
       "      <td>0.0</td>\n",
       "      <td>1.0</td>\n",
       "      <td>0.0</td>\n",
       "      <td>1.0</td>\n",
       "      <td>0.0</td>\n",
       "      <td>1.0</td>\n",
       "      <td>1.0</td>\n",
       "      <td>...</td>\n",
       "      <td>White</td>\n",
       "      <td>Male</td>\n",
       "      <td>Below Poverty</td>\n",
       "      <td>Not Married</td>\n",
       "      <td>Rent</td>\n",
       "      <td>Employed</td>\n",
       "      <td>MSA, Not Principle  City</td>\n",
       "      <td>0.0</td>\n",
       "      <td>0.0</td>\n",
       "      <td>0</td>\n",
       "    </tr>\n",
       "    <tr>\n",
       "      <th>1</th>\n",
       "      <td>2</td>\n",
       "      <td>1.0</td>\n",
       "      <td>1.0</td>\n",
       "      <td>0.0</td>\n",
       "      <td>1.0</td>\n",
       "      <td>0.0</td>\n",
       "      <td>0.0</td>\n",
       "      <td>0.0</td>\n",
       "      <td>0.0</td>\n",
       "      <td>0.0</td>\n",
       "      <td>...</td>\n",
       "      <td>White</td>\n",
       "      <td>Male</td>\n",
       "      <td>&lt;= $75,000, Above Poverty</td>\n",
       "      <td>Not Married</td>\n",
       "      <td>Own</td>\n",
       "      <td>Employed</td>\n",
       "      <td>MSA, Not Principle  City</td>\n",
       "      <td>2.0</td>\n",
       "      <td>0.0</td>\n",
       "      <td>0</td>\n",
       "    </tr>\n",
       "    <tr>\n",
       "      <th>2</th>\n",
       "      <td>3</td>\n",
       "      <td>1.0</td>\n",
       "      <td>1.0</td>\n",
       "      <td>0.0</td>\n",
       "      <td>1.0</td>\n",
       "      <td>0.0</td>\n",
       "      <td>1.0</td>\n",
       "      <td>1.0</td>\n",
       "      <td>0.0</td>\n",
       "      <td>0.0</td>\n",
       "      <td>...</td>\n",
       "      <td>White</td>\n",
       "      <td>Female</td>\n",
       "      <td>Below Poverty</td>\n",
       "      <td>Not Married</td>\n",
       "      <td>Rent</td>\n",
       "      <td>Not in Labor Force</td>\n",
       "      <td>MSA, Principle City</td>\n",
       "      <td>0.0</td>\n",
       "      <td>0.0</td>\n",
       "      <td>0</td>\n",
       "    </tr>\n",
       "    <tr>\n",
       "      <th>3</th>\n",
       "      <td>4</td>\n",
       "      <td>2.0</td>\n",
       "      <td>1.0</td>\n",
       "      <td>0.0</td>\n",
       "      <td>1.0</td>\n",
       "      <td>0.0</td>\n",
       "      <td>1.0</td>\n",
       "      <td>1.0</td>\n",
       "      <td>0.0</td>\n",
       "      <td>1.0</td>\n",
       "      <td>...</td>\n",
       "      <td>White</td>\n",
       "      <td>Female</td>\n",
       "      <td>&lt;= $75,000, Above Poverty</td>\n",
       "      <td>Married</td>\n",
       "      <td>Own</td>\n",
       "      <td>Employed</td>\n",
       "      <td>MSA, Not Principle  City</td>\n",
       "      <td>1.0</td>\n",
       "      <td>0.0</td>\n",
       "      <td>0</td>\n",
       "    </tr>\n",
       "    <tr>\n",
       "      <th>4</th>\n",
       "      <td>5</td>\n",
       "      <td>3.0</td>\n",
       "      <td>1.0</td>\n",
       "      <td>0.0</td>\n",
       "      <td>1.0</td>\n",
       "      <td>0.0</td>\n",
       "      <td>1.0</td>\n",
       "      <td>0.0</td>\n",
       "      <td>0.0</td>\n",
       "      <td>1.0</td>\n",
       "      <td>...</td>\n",
       "      <td>White</td>\n",
       "      <td>Male</td>\n",
       "      <td>&lt;= $75,000, Above Poverty</td>\n",
       "      <td>Married</td>\n",
       "      <td>Own</td>\n",
       "      <td>Employed</td>\n",
       "      <td>MSA, Principle City</td>\n",
       "      <td>2.0</td>\n",
       "      <td>3.0</td>\n",
       "      <td>0</td>\n",
       "    </tr>\n",
       "  </tbody>\n",
       "</table>\n",
       "<p>5 rows × 34 columns</p>\n",
       "</div>"
      ],
      "text/plain": [
       "   unique_id  h1n1_worry  h1n1_awareness  antiviral_medication  \\\n",
       "0          1         3.0             2.0                   0.0   \n",
       "1          2         1.0             1.0                   0.0   \n",
       "2          3         1.0             1.0                   0.0   \n",
       "3          4         2.0             1.0                   0.0   \n",
       "4          5         3.0             1.0                   0.0   \n",
       "\n",
       "   contact_avoidance  bought_face_mask  wash_hands_frequently  \\\n",
       "0                1.0               0.0                    1.0   \n",
       "1                1.0               0.0                    0.0   \n",
       "2                1.0               0.0                    1.0   \n",
       "3                1.0               0.0                    1.0   \n",
       "4                1.0               0.0                    1.0   \n",
       "\n",
       "   avoid_large_gatherings  reduced_outside_home_cont  avoid_touch_face  ...  \\\n",
       "0                     0.0                        1.0               1.0  ...   \n",
       "1                     0.0                        0.0               0.0  ...   \n",
       "2                     1.0                        0.0               0.0  ...   \n",
       "3                     1.0                        0.0               1.0  ...   \n",
       "4                     0.0                        0.0               1.0  ...   \n",
       "\n",
       "    race     sex               income_level  marital_status  housing_status  \\\n",
       "0  White    Male              Below Poverty     Not Married            Rent   \n",
       "1  White    Male  <= $75,000, Above Poverty     Not Married             Own   \n",
       "2  White  Female              Below Poverty     Not Married            Rent   \n",
       "3  White  Female  <= $75,000, Above Poverty         Married             Own   \n",
       "4  White    Male  <= $75,000, Above Poverty         Married             Own   \n",
       "\n",
       "           employment                census_msa  no_of_adults  no_of_children  \\\n",
       "0            Employed  MSA, Not Principle  City           0.0             0.0   \n",
       "1            Employed  MSA, Not Principle  City           2.0             0.0   \n",
       "2  Not in Labor Force       MSA, Principle City           0.0             0.0   \n",
       "3            Employed  MSA, Not Principle  City           1.0             0.0   \n",
       "4            Employed       MSA, Principle City           2.0             3.0   \n",
       "\n",
       "   h1n1_vaccine  \n",
       "0             0  \n",
       "1             0  \n",
       "2             0  \n",
       "3             0  \n",
       "4             0  \n",
       "\n",
       "[5 rows x 34 columns]"
      ]
     },
     "execution_count": 51,
     "metadata": {},
     "output_type": "execute_result"
    }
   ],
   "source": [
    "df.head()"
   ]
  },
  {
   "cell_type": "markdown",
   "id": "350c1d8b",
   "metadata": {},
   "source": [
    "### Extracting features and labels"
   ]
  },
  {
   "cell_type": "code",
   "execution_count": 54,
   "id": "7320b164",
   "metadata": {},
   "outputs": [],
   "source": [
    "X = df.drop('contact_avoidance', axis= 1)\n",
    "y = df['contact_avoidance']"
   ]
  },
  {
   "cell_type": "code",
   "execution_count": 55,
   "id": "a048c50c",
   "metadata": {},
   "outputs": [
    {
     "data": {
      "text/plain": [
       "unique_id                      int64\n",
       "h1n1_worry                   float64\n",
       "h1n1_awareness               float64\n",
       "antiviral_medication         float64\n",
       "bought_face_mask             float64\n",
       "wash_hands_frequently        float64\n",
       "avoid_large_gatherings       float64\n",
       "reduced_outside_home_cont    float64\n",
       "avoid_touch_face             float64\n",
       "dr_recc_h1n1_vacc            float64\n",
       "dr_recc_seasonal_vacc        float64\n",
       "chronic_medic_condition      float64\n",
       "cont_child_undr_6_mnths      float64\n",
       "is_health_worker             float64\n",
       "has_health_insur             float64\n",
       "is_h1n1_vacc_effective       float64\n",
       "is_h1n1_risky                float64\n",
       "sick_from_h1n1_vacc          float64\n",
       "is_seas_vacc_effective       float64\n",
       "is_seas_risky                float64\n",
       "sick_from_seas_vacc          float64\n",
       "age_bracket                   object\n",
       "qualification                 object\n",
       "race                          object\n",
       "sex                           object\n",
       "income_level                  object\n",
       "marital_status                object\n",
       "housing_status                object\n",
       "employment                    object\n",
       "census_msa                    object\n",
       "no_of_adults                 float64\n",
       "no_of_children               float64\n",
       "h1n1_vaccine                   int64\n",
       "dtype: object"
      ]
     },
     "execution_count": 55,
     "metadata": {},
     "output_type": "execute_result"
    }
   ],
   "source": [
    "X.dtypes"
   ]
  },
  {
   "cell_type": "markdown",
   "id": "3414ec55",
   "metadata": {},
   "source": [
    "### Feature Scaling"
   ]
  },
  {
   "cell_type": "code",
   "execution_count": 58,
   "id": "95774a85",
   "metadata": {},
   "outputs": [
    {
     "ename": "NameError",
     "evalue": "name 'X_transformed' is not defined",
     "output_type": "error",
     "traceback": [
      "\u001b[1;31m---------------------------------------------------------------------------\u001b[0m",
      "\u001b[1;31mNameError\u001b[0m                                 Traceback (most recent call last)",
      "Input \u001b[1;32mIn [58]\u001b[0m, in \u001b[0;36m<cell line: 1>\u001b[1;34m()\u001b[0m\n\u001b[1;32m----> 1\u001b[0m X_transformed \u001b[38;5;241m=\u001b[39m pd\u001b[38;5;241m.\u001b[39mDataFrame(\u001b[43mX_transformed\u001b[49m, columns \u001b[38;5;241m=\u001b[39m [\u001b[38;5;124m'\u001b[39m\u001b[38;5;124mlongitude_of_pickup\u001b[39m\u001b[38;5;124m'\u001b[39m, \u001b[38;5;124m'\u001b[39m\u001b[38;5;124mlatitude_of_pickup\u001b[39m\u001b[38;5;124m'\u001b[39m,\n\u001b[0;32m      2\u001b[0m        \u001b[38;5;124m'\u001b[39m\u001b[38;5;124mlongitude_of_dropoff\u001b[39m\u001b[38;5;124m'\u001b[39m, \u001b[38;5;124m'\u001b[39m\u001b[38;5;124mlatitude_of_dropoff\u001b[39m\u001b[38;5;124m'\u001b[39m, \u001b[38;5;124m'\u001b[39m\u001b[38;5;124mno_of_passenger\u001b[39m\u001b[38;5;124m'\u001b[39m,\u001b[38;5;124m'\u001b[39m\u001b[38;5;124mmonth\u001b[39m\u001b[38;5;124m'\u001b[39m,\u001b[38;5;124m'\u001b[39m\u001b[38;5;124mday\u001b[39m\u001b[38;5;124m'\u001b[39m,\n\u001b[0;32m      3\u001b[0m         \u001b[38;5;124m'\u001b[39m\u001b[38;5;124mdayofweek\u001b[39m\u001b[38;5;124m'\u001b[39m, \u001b[38;5;124m'\u001b[39m\u001b[38;5;124mhour\u001b[39m\u001b[38;5;124m'\u001b[39m])\n",
      "\u001b[1;31mNameError\u001b[0m: name 'X_transformed' is not defined"
     ]
    }
   ],
   "source": [
    "X_transformed = pd.DataFrame(X_transformed, columns = ['longitude_of_pickup', 'latitude_of_pickup',\n",
    "       'longitude_of_dropoff', 'latitude_of_dropoff', 'no_of_passenger','month','day',\n",
    "        'dayofweek', 'hour'])"
   ]
  },
  {
   "cell_type": "code",
   "execution_count": null,
   "id": "b6df39c2",
   "metadata": {},
   "outputs": [],
   "source": [
    "from sklearn.preprocessing import StandardScaler \n",
    "\n",
    "st_x = StandardScaler()  \n",
    "X_transformed = st_x.fit_transform(X) "
   ]
  },
  {
   "cell_type": "code",
   "execution_count": null,
   "id": "2e51e3a8",
   "metadata": {},
   "outputs": [],
   "source": [
    "X_transformed.head()"
   ]
  },
  {
   "cell_type": "code",
   "execution_count": 60,
   "id": "4f8c4215",
   "metadata": {},
   "outputs": [
    {
     "data": {
      "text/plain": [
       "Index(['unique_id', 'h1n1_worry', 'h1n1_awareness', 'antiviral_medication',\n",
       "       'contact_avoidance', 'bought_face_mask', 'wash_hands_frequently',\n",
       "       'avoid_large_gatherings', 'reduced_outside_home_cont',\n",
       "       'avoid_touch_face', 'dr_recc_h1n1_vacc', 'dr_recc_seasonal_vacc',\n",
       "       'chronic_medic_condition', 'cont_child_undr_6_mnths',\n",
       "       'is_health_worker', 'has_health_insur', 'is_h1n1_vacc_effective',\n",
       "       'is_h1n1_risky', 'sick_from_h1n1_vacc', 'is_seas_vacc_effective',\n",
       "       'is_seas_risky', 'sick_from_seas_vacc', 'age_bracket', 'qualification',\n",
       "       'race', 'sex', 'income_level', 'marital_status', 'housing_status',\n",
       "       'employment', 'census_msa', 'no_of_adults', 'no_of_children',\n",
       "       'h1n1_vaccine'],\n",
       "      dtype='object')"
      ]
     },
     "execution_count": 60,
     "metadata": {},
     "output_type": "execute_result"
    }
   ],
   "source": [
    "df.columns"
   ]
  },
  {
   "cell_type": "code",
   "execution_count": 61,
   "id": "31e1e02a",
   "metadata": {},
   "outputs": [],
   "source": [
    "y_arr = np.array(y).reshape(-1,1)\n",
    "y_arr.shape\n",
    "y = st_x.fit_transform(y_arr) "
   ]
  },
  {
   "cell_type": "code",
   "execution_count": 62,
   "id": "b81fd619",
   "metadata": {},
   "outputs": [
    {
     "data": {
      "text/html": [
       "<div>\n",
       "<style scoped>\n",
       "    .dataframe tbody tr th:only-of-type {\n",
       "        vertical-align: middle;\n",
       "    }\n",
       "\n",
       "    .dataframe tbody tr th {\n",
       "        vertical-align: top;\n",
       "    }\n",
       "\n",
       "    .dataframe thead th {\n",
       "        text-align: right;\n",
       "    }\n",
       "</style>\n",
       "<table border=\"1\" class=\"dataframe\">\n",
       "  <thead>\n",
       "    <tr style=\"text-align: right;\">\n",
       "      <th></th>\n",
       "      <th>contact_avoidance</th>\n",
       "    </tr>\n",
       "  </thead>\n",
       "  <tbody>\n",
       "    <tr>\n",
       "      <th>0</th>\n",
       "      <td>0.0</td>\n",
       "    </tr>\n",
       "    <tr>\n",
       "      <th>1</th>\n",
       "      <td>0.0</td>\n",
       "    </tr>\n",
       "    <tr>\n",
       "      <th>2</th>\n",
       "      <td>0.0</td>\n",
       "    </tr>\n",
       "    <tr>\n",
       "      <th>3</th>\n",
       "      <td>0.0</td>\n",
       "    </tr>\n",
       "    <tr>\n",
       "      <th>4</th>\n",
       "      <td>0.0</td>\n",
       "    </tr>\n",
       "  </tbody>\n",
       "</table>\n",
       "</div>"
      ],
      "text/plain": [
       "   contact_avoidance\n",
       "0                0.0\n",
       "1                0.0\n",
       "2                0.0\n",
       "3                0.0\n",
       "4                0.0"
      ]
     },
     "execution_count": 62,
     "metadata": {},
     "output_type": "execute_result"
    }
   ],
   "source": [
    "y_transformed = pd.DataFrame(y, columns= ['contact_avoidance'])\n",
    "y_transformed.head()"
   ]
  },
  {
   "cell_type": "markdown",
   "id": "368ed9db",
   "metadata": {},
   "source": [
    "### Getting training and testing data"
   ]
  },
  {
   "cell_type": "code",
   "execution_count": 63,
   "id": "4f8cce26",
   "metadata": {},
   "outputs": [],
   "source": [
    "# Value of random state\n",
    "\n",
    "rdst = 42"
   ]
  },
  {
   "cell_type": "code",
   "execution_count": 70,
   "id": "367c00fd",
   "metadata": {},
   "outputs": [],
   "source": [
    "# Normal Data\n",
    "\n",
    "#xtrain, xtest, ytrain, ytest = train_test_split(X, y, test_size= 0.3, random_state= rdst)"
   ]
  },
  {
   "cell_type": "code",
   "execution_count": 71,
   "id": "cc1502fc",
   "metadata": {},
   "outputs": [],
   "source": [
    "#xtrain, xtest, ytrain, ytest = train_test_split(X_transformed, y_transformed, test_size= 0.2, random_state= rdst)"
   ]
  },
  {
   "cell_type": "markdown",
   "id": "34c55e52",
   "metadata": {},
   "source": [
    "### Model Fitting"
   ]
  },
  {
   "cell_type": "markdown",
   "id": "000e409f",
   "metadata": {},
   "source": [
    "##### Here we will use Regression Model's because the target variable is numerical."
   ]
  },
  {
   "cell_type": "markdown",
   "id": "e16aee2a",
   "metadata": {},
   "source": [
    "#### 1) Decision Tree Classifier"
   ]
  },
  {
   "cell_type": "code",
   "execution_count": null,
   "id": "70f889c6",
   "metadata": {},
   "outputs": [],
   "source": [
    "from sklearn.tree import DecisionTreeClassifier\n",
    "\n",
    "model1 = DecisionTreeClassifier(max_depth=6 , max_features='sqrt', random_state= rdst)\n",
    "model1.fit(xtrain, ytrain)"
   ]
  },
  {
   "cell_type": "code",
   "execution_count": 84,
   "id": "c75b280c",
   "metadata": {},
   "outputs": [
    {
     "data": {
      "text/plain": [
       "0.6027600079840413"
      ]
     },
     "execution_count": 84,
     "metadata": {},
     "output_type": "execute_result"
    }
   ],
   "source": [
    "sc1tr = model1.score(xtrain, ytrain)\n",
    "sc1tr "
   ]
  },
  {
   "cell_type": "code",
   "execution_count": 85,
   "id": "14c4de55",
   "metadata": {},
   "outputs": [
    {
     "data": {
      "text/plain": [
       "0.5785505872336492"
      ]
     },
     "execution_count": 85,
     "metadata": {},
     "output_type": "execute_result"
    }
   ],
   "source": [
    "sc1ts = model1.score(xtest, ytest)\n",
    "sc1ts"
   ]
  },
  {
   "cell_type": "code",
   "execution_count": 86,
   "id": "adf7a6ea",
   "metadata": {},
   "outputs": [],
   "source": [
    "#adding values for performance report\n",
    "count = count + 1"
   ]
  },
  {
   "cell_type": "markdown",
   "id": "09d55fd7",
   "metadata": {},
   "source": [
    "#### 2) SVM"
   ]
  },
  {
   "cell_type": "raw",
   "id": "da8c1bc8",
   "metadata": {},
   "source": [
    "from sklearn.svm import SVR\n",
    "\n",
    "model2 = SVR()\n",
    "model2.fit(xtrain, ytrain)"
   ]
  },
  {
   "cell_type": "raw",
   "id": "8b304fe5",
   "metadata": {},
   "source": [
    "sc2tr = model2.score(xtrain, ytrain)\n",
    "sc2tr"
   ]
  },
  {
   "cell_type": "raw",
   "id": "195b3cc0",
   "metadata": {},
   "source": [
    "sc2ts =model2.score(xtest, ytest)\n",
    "sc2ts"
   ]
  },
  {
   "cell_type": "code",
   "execution_count": 87,
   "id": "45991e8b",
   "metadata": {},
   "outputs": [],
   "source": [
    "count = count + 1"
   ]
  },
  {
   "cell_type": "markdown",
   "id": "0075d913",
   "metadata": {},
   "source": [
    "#### 3) SGD"
   ]
  },
  {
   "cell_type": "code",
   "execution_count": null,
   "id": "8c0f81b6",
   "metadata": {},
   "outputs": [],
   "source": [
    "from sklearn.linear_model import SGDClassifier\n",
    "\n",
    "model3 = SGDClassifier(random_state= rdst)\n",
    "model3.fit(xtrain, ytrain)"
   ]
  },
  {
   "cell_type": "code",
   "execution_count": 89,
   "id": "a7f65d11",
   "metadata": {},
   "outputs": [
    {
     "data": {
      "text/plain": [
       "-4.388767703702596e+21"
      ]
     },
     "execution_count": 89,
     "metadata": {},
     "output_type": "execute_result"
    }
   ],
   "source": [
    "sc3tr = model3.score(xtrain, ytrain)\n",
    "sc3tr"
   ]
  },
  {
   "cell_type": "code",
   "execution_count": 90,
   "id": "52d1c4ff",
   "metadata": {},
   "outputs": [
    {
     "data": {
      "text/plain": [
       "-3.8864903064549715e+21"
      ]
     },
     "execution_count": 90,
     "metadata": {},
     "output_type": "execute_result"
    }
   ],
   "source": [
    "sc3ts = model3.score(xtest, ytest)\n",
    "sc3ts"
   ]
  },
  {
   "cell_type": "code",
   "execution_count": 91,
   "id": "3db54906",
   "metadata": {},
   "outputs": [],
   "source": [
    "#adding values for performance report\n",
    "count = count + 1"
   ]
  },
  {
   "cell_type": "markdown",
   "id": "a4d4d7ff",
   "metadata": {},
   "source": [
    "#### 4) Bagging Classifier"
   ]
  },
  {
   "cell_type": "code",
   "execution_count": null,
   "id": "1f205d2b",
   "metadata": {},
   "outputs": [],
   "source": [
    "from sklearn.ensemble import BaggingClassifier\n",
    "\n",
    "model4 = BaggingClassifier(base_estimator= model1,random_state= rdst)\n",
    "model4.fit(xtrain, ytrain)"
   ]
  },
  {
   "cell_type": "code",
   "execution_count": 93,
   "id": "be084092",
   "metadata": {},
   "outputs": [
    {
     "data": {
      "text/plain": [
       "0.652308846406233"
      ]
     },
     "execution_count": 93,
     "metadata": {},
     "output_type": "execute_result"
    }
   ],
   "source": [
    "sc4tr = model4.score(xtrain, ytrain)\n",
    "sc4tr"
   ]
  },
  {
   "cell_type": "code",
   "execution_count": 94,
   "id": "8b609601",
   "metadata": {},
   "outputs": [
    {
     "data": {
      "text/plain": [
       "0.6336399295358104"
      ]
     },
     "execution_count": 94,
     "metadata": {},
     "output_type": "execute_result"
    }
   ],
   "source": [
    "sc4ts = model4.score(xtest, ytest)\n",
    "sc4ts"
   ]
  },
  {
   "cell_type": "code",
   "execution_count": 95,
   "id": "174776ca",
   "metadata": {},
   "outputs": [],
   "source": [
    "#adding values for performance report\n",
    "count = count + 1"
   ]
  },
  {
   "cell_type": "markdown",
   "id": "e5b0a4ef",
   "metadata": {},
   "source": [
    "#### 5) AdaBoostClassifier"
   ]
  },
  {
   "cell_type": "code",
   "execution_count": null,
   "id": "fc5e5a74",
   "metadata": {},
   "outputs": [],
   "source": [
    "from sklearn.ensemble import AdaBoostClassifier\n",
    "\n",
    "model5 = AdaBoostClassifier(random_state= rdst)\n",
    "model5.fit(xtrain, ytrain)"
   ]
  },
  {
   "cell_type": "code",
   "execution_count": 97,
   "id": "628622ed",
   "metadata": {},
   "outputs": [
    {
     "data": {
      "text/plain": [
       "-2.2272072831151832"
      ]
     },
     "execution_count": 97,
     "metadata": {},
     "output_type": "execute_result"
    }
   ],
   "source": [
    "sc5tr = model5.score(xtrain, ytrain)\n",
    "sc5tr"
   ]
  },
  {
   "cell_type": "code",
   "execution_count": 98,
   "id": "6453bdb3",
   "metadata": {},
   "outputs": [
    {
     "data": {
      "text/plain": [
       "-2.3303117860593052"
      ]
     },
     "execution_count": 98,
     "metadata": {},
     "output_type": "execute_result"
    }
   ],
   "source": [
    "sc5ts = model5.score(xtest, ytest)\n",
    "sc5ts"
   ]
  },
  {
   "cell_type": "code",
   "execution_count": 99,
   "id": "3abbdeb0",
   "metadata": {},
   "outputs": [],
   "source": [
    "#adding values for performance report\n",
    "count = count + 1"
   ]
  },
  {
   "cell_type": "markdown",
   "id": "4d941373",
   "metadata": {},
   "source": [
    "#### 6) GradientBoostingClassifier"
   ]
  },
  {
   "cell_type": "code",
   "execution_count": null,
   "id": "2a79858a",
   "metadata": {},
   "outputs": [],
   "source": [
    "from sklearn.ensemble import GradientBoostingClassifier\n",
    "\n",
    "model6 = GradientBoostingClassifier(random_state= rdst)\n",
    "model6.fit(xtrain, ytrain)"
   ]
  },
  {
   "cell_type": "code",
   "execution_count": 101,
   "id": "8a332c27",
   "metadata": {},
   "outputs": [
    {
     "data": {
      "text/plain": [
       "0.7726810383487652"
      ]
     },
     "execution_count": 101,
     "metadata": {},
     "output_type": "execute_result"
    }
   ],
   "source": [
    "sc6tr = model6.score(xtrain, ytrain)\n",
    "sc6tr"
   ]
  },
  {
   "cell_type": "code",
   "execution_count": 102,
   "id": "f2189b83",
   "metadata": {},
   "outputs": [
    {
     "data": {
      "text/plain": [
       "0.7290197996595463"
      ]
     },
     "execution_count": 102,
     "metadata": {},
     "output_type": "execute_result"
    }
   ],
   "source": [
    "sc6ts = model6.score(xtest, ytest)\n",
    "sc6ts"
   ]
  },
  {
   "cell_type": "code",
   "execution_count": 103,
   "id": "0713eff0",
   "metadata": {},
   "outputs": [],
   "source": [
    "#adding values for performance report\n",
    "count = count + 1"
   ]
  },
  {
   "cell_type": "markdown",
   "id": "57ecbc82",
   "metadata": {},
   "source": [
    "#### 7) RandomForestClassifier"
   ]
  },
  {
   "cell_type": "code",
   "execution_count": null,
   "id": "be6f175c",
   "metadata": {},
   "outputs": [],
   "source": [
    "from sklearn.ensemble import RandomForestClassifier\n",
    "\n",
    "model7 = RandomForestClassifier(n_jobs= 2, random_state= rdst, min_samples_split= 8, min_samples_leaf= 1)\n",
    "model7.fit(xtrain, ytrain)"
   ]
  },
  {
   "cell_type": "code",
   "execution_count": 105,
   "id": "c91b4e5b",
   "metadata": {},
   "outputs": [
    {
     "data": {
      "text/plain": [
       "0.9337961111419366"
      ]
     },
     "execution_count": 105,
     "metadata": {},
     "output_type": "execute_result"
    }
   ],
   "source": [
    "sc7tr = model7.score(xtrain, ytrain)\n",
    "sc7tr"
   ]
  },
  {
   "cell_type": "code",
   "execution_count": 106,
   "id": "81734651",
   "metadata": {},
   "outputs": [
    {
     "data": {
      "text/plain": [
       "0.7834731216316448"
      ]
     },
     "execution_count": 106,
     "metadata": {},
     "output_type": "execute_result"
    }
   ],
   "source": [
    "sc7ts = model7.score(xtest, ytest)\n",
    "sc7ts"
   ]
  },
  {
   "cell_type": "code",
   "execution_count": 107,
   "id": "a78f1a57",
   "metadata": {},
   "outputs": [],
   "source": [
    "#adding values for performance report\n",
    "count = count + 1"
   ]
  },
  {
   "cell_type": "code",
   "execution_count": 108,
   "id": "03323a73",
   "metadata": {},
   "outputs": [],
   "source": [
    "y_preds = model7"
   ]
  },
  {
   "cell_type": "raw",
   "id": "ac59830e",
   "metadata": {},
   "source": [
    "from sklearn.model_selection import RandomizedSearchCV\n",
    "\n",
    "grid = {\"n_estimators\": [10, 100, 200, 500, 1000, 1200],\n",
    "       \"max_depth\": [None, 5, 10, 15, 20, 25, 30, 35, 40, 45, 50, 55],\n",
    "       \"max_features\": [\"auto\", \"sqrt\", \"log2\"],\n",
    "        \"criterion\": ['squared_error', 'friedman_mse', 'poisson', 'absolute_error'],\n",
    "        \"min_samples_split\": [2,3,4,5,6,7,8,9,10],\n",
    "       \"min_samples_leaf\": [1,2,4],\n",
    "       \"min_impurity_decrease\":[0,0, 0.05, 0.1],\n",
    "       \"bootstrap\": [True, False]}\n",
    "\n",
    "rs_clf = RandomizedSearchCV(estimator= model7,\n",
    "                           param_distributions=grid,\n",
    "                           n_iter=10,\n",
    "                           cv=5,\n",
    "                           verbose=2)\n",
    "rs_clf.fit(xtrain, ytrain)"
   ]
  },
  {
   "cell_type": "raw",
   "id": "510fd8cd",
   "metadata": {},
   "source": [
    "from sklearn.model_selection import cross_val_score\n",
    "\n",
    "scores=cross_val_score(model7, X, y, cv=3, scoring='neg_mean_squared_error')"
   ]
  },
  {
   "cell_type": "markdown",
   "id": "c603edcc",
   "metadata": {},
   "source": [
    "#### 8) Simple Linear Classification"
   ]
  },
  {
   "cell_type": "code",
   "execution_count": null,
   "id": "37d45c15",
   "metadata": {},
   "outputs": [],
   "source": [
    "from sklearn.linear_model import LinearClassifier\n",
    "\n",
    "model8 = LinearClassifier()\n",
    "model8.fit(xtrain, ytrain)"
   ]
  },
  {
   "cell_type": "code",
   "execution_count": 110,
   "id": "a315d4c8",
   "metadata": {},
   "outputs": [
    {
     "data": {
      "text/plain": [
       "0.0025470733714684224"
      ]
     },
     "execution_count": 110,
     "metadata": {},
     "output_type": "execute_result"
    }
   ],
   "source": [
    "sc8tr = model8.score(xtrain, ytrain)\n",
    "sc8tr"
   ]
  },
  {
   "cell_type": "code",
   "execution_count": 111,
   "id": "7113278a",
   "metadata": {},
   "outputs": [
    {
     "data": {
      "text/plain": [
       "0.0025690736825197957"
      ]
     },
     "execution_count": 111,
     "metadata": {},
     "output_type": "execute_result"
    }
   ],
   "source": [
    "sc8ts = model8.score(xtest, ytest)\n",
    "sc8ts"
   ]
  },
  {
   "cell_type": "code",
   "execution_count": 112,
   "id": "a2ad8b01",
   "metadata": {},
   "outputs": [],
   "source": [
    "#adding values for performance report\n",
    "count = count + 1"
   ]
  },
  {
   "cell_type": "markdown",
   "id": "7d097eec",
   "metadata": {},
   "source": [
    "#### 9) GausianClassifier"
   ]
  },
  {
   "cell_type": "raw",
   "id": "dfa04b51",
   "metadata": {},
   "source": [
    "from sklearn.gaussian_process import GaussianProcessClassifier\n",
    "from sklearn.gaussian_process.kernels import (RBF, Matern, RationalQuadratic,ExpSineSquared, DotProduct,ConstantKernel)\n",
    "                                              \n",
    "# Determination of the kernel used and the value lenght_scale at which the optimization process starts\n",
    "kernel = 1.0 * RBF(length_scale=1.0, length_scale_bounds=(1e-2, 1e3))\n",
    "\n",
    "# Application of the regressor (alpha makes a statement about a possible noise of the training data)\n",
    "model9 = GaussianProcessClassifier(kernel=kernel, alpha=0.1)\n",
    "model9.fit(xtrain, ytrain)"
   ]
  },
  {
   "cell_type": "raw",
   "id": "aaebd4bb",
   "metadata": {},
   "source": [
    "sc9tr = model8.score(xtrain, ytrain)\n",
    "sc9tr"
   ]
  },
  {
   "cell_type": "raw",
   "id": "8f8ba595",
   "metadata": {},
   "source": [
    "sc9ts = model8.score(xtest, ytest)\n",
    "sc9ts"
   ]
  },
  {
   "cell_type": "code",
   "execution_count": 113,
   "id": "38ae72d0",
   "metadata": {},
   "outputs": [],
   "source": [
    "#adding values for performance report\n",
    "count = count + 1"
   ]
  },
  {
   "cell_type": "markdown",
   "id": "87ea3528",
   "metadata": {},
   "source": [
    "#### 10) K nearest neighbour"
   ]
  },
  {
   "cell_type": "code",
   "execution_count": null,
   "id": "06b04a88",
   "metadata": {},
   "outputs": [],
   "source": [
    "from sklearn.neighbors import KNeighborsClassifier\n",
    "\n",
    "model10 = KNeighborsClassifier()\n",
    "model10.fit(xtrain, ytrain)"
   ]
  },
  {
   "cell_type": "code",
   "execution_count": 115,
   "id": "bb90fcaa",
   "metadata": {},
   "outputs": [
    {
     "data": {
      "text/plain": [
       "0.24069399401100422"
      ]
     },
     "execution_count": 115,
     "metadata": {},
     "output_type": "execute_result"
    }
   ],
   "source": [
    "sc10tr = model10.score(xtrain, ytrain)\n",
    "sc10tr"
   ]
  },
  {
   "cell_type": "code",
   "execution_count": 116,
   "id": "d42eb55b",
   "metadata": {},
   "outputs": [
    {
     "data": {
      "text/plain": [
       "-0.12588821980629095"
      ]
     },
     "execution_count": 116,
     "metadata": {},
     "output_type": "execute_result"
    }
   ],
   "source": [
    "sc10ts = model10.score(xtest, ytest)\n",
    "sc10ts"
   ]
  },
  {
   "cell_type": "code",
   "execution_count": 117,
   "id": "79c486c0",
   "metadata": {},
   "outputs": [],
   "source": [
    "#adding values for performance report\n",
    "count = count + 1"
   ]
  },
  {
   "cell_type": "markdown",
   "id": "70d4160e",
   "metadata": {},
   "source": [
    "#### 11) LGBMBoost"
   ]
  },
  {
   "cell_type": "code",
   "execution_count": null,
   "id": "36292d84",
   "metadata": {},
   "outputs": [],
   "source": [
    "from lightgbm import LGBMClassifier\n",
    "\n",
    "model11 = LGBMClassifier(random_state= rdst)\n",
    "model11.fit(xtrain, ytrain)"
   ]
  },
  {
   "cell_type": "code",
   "execution_count": 119,
   "id": "9ff6d770",
   "metadata": {},
   "outputs": [
    {
     "data": {
      "text/plain": [
       "0.8125874953699608"
      ]
     },
     "execution_count": 119,
     "metadata": {},
     "output_type": "execute_result"
    }
   ],
   "source": [
    "sc11tr = model11.score(xtrain, ytrain)\n",
    "sc11tr"
   ]
  },
  {
   "cell_type": "code",
   "execution_count": 120,
   "id": "9d16a150",
   "metadata": {},
   "outputs": [
    {
     "data": {
      "text/plain": [
       "0.7739054555605506"
      ]
     },
     "execution_count": 120,
     "metadata": {},
     "output_type": "execute_result"
    }
   ],
   "source": [
    "sc11ts = model11.score(xtest, ytest)\n",
    "sc11ts "
   ]
  },
  {
   "cell_type": "code",
   "execution_count": 121,
   "id": "b1627fb6",
   "metadata": {},
   "outputs": [],
   "source": [
    "#adding values for performance report\n",
    "count = count + 1"
   ]
  },
  {
   "cell_type": "markdown",
   "id": "759038d9",
   "metadata": {},
   "source": [
    "#### 12) CatBoostClassifier"
   ]
  },
  {
   "cell_type": "raw",
   "id": "c56de0e8",
   "metadata": {},
   "source": [
    "from catboost import CatBoostClassifier\n",
    "\n",
    "model12 = CatBoostClassifier(random_state= 42)\n",
    "model12.fit(xtrain, ytrain)"
   ]
  },
  {
   "cell_type": "raw",
   "id": "dd814cbc",
   "metadata": {},
   "source": [
    "sc12tr = model12.score(xtrain, ytrain)\n",
    "sc12tr"
   ]
  },
  {
   "cell_type": "raw",
   "id": "554ad4ed",
   "metadata": {},
   "source": [
    "sc12ts = model12.score(xtest, ytest)\n",
    "sc12ts"
   ]
  },
  {
   "cell_type": "code",
   "execution_count": 125,
   "id": "17bf557d",
   "metadata": {},
   "outputs": [],
   "source": [
    "#adding values for performance report\n",
    "count = count + 1"
   ]
  },
  {
   "cell_type": "markdown",
   "id": "351e8ca3",
   "metadata": {},
   "source": [
    "#### 13) XGBoostClassifier"
   ]
  },
  {
   "cell_type": "code",
   "execution_count": null,
   "id": "5b9906be",
   "metadata": {},
   "outputs": [],
   "source": [
    "from xgboost.sklearn import XGBClassifier\n",
    "\n",
    "model13 = XGBClassifier(random_state= rdst)\n",
    "model13.fit(xtrain, ytrain)"
   ]
  },
  {
   "cell_type": "code",
   "execution_count": 127,
   "id": "3723ace1",
   "metadata": {},
   "outputs": [
    {
     "data": {
      "text/plain": [
       "0.9087513469662362"
      ]
     },
     "execution_count": 127,
     "metadata": {},
     "output_type": "execute_result"
    }
   ],
   "source": [
    "sc13tr = model13.score(xtrain, ytrain)\n",
    "sc13tr"
   ]
  },
  {
   "cell_type": "code",
   "execution_count": 128,
   "id": "9a18aacc",
   "metadata": {},
   "outputs": [
    {
     "data": {
      "text/plain": [
       "0.7691877829932929"
      ]
     },
     "execution_count": 128,
     "metadata": {},
     "output_type": "execute_result"
    }
   ],
   "source": [
    "sc13ts = model13.score(xtest, ytest)\n",
    "sc13ts "
   ]
  },
  {
   "cell_type": "code",
   "execution_count": 129,
   "id": "0fdc4cb6",
   "metadata": {},
   "outputs": [],
   "source": [
    "#adding values for performance report\n",
    "count = count + 1"
   ]
  },
  {
   "cell_type": "markdown",
   "id": "9f5d2163",
   "metadata": {},
   "source": [
    "### Performance of Algorithms"
   ]
  },
  {
   "cell_type": "code",
   "execution_count": 130,
   "id": "f8868531",
   "metadata": {},
   "outputs": [],
   "source": [
    "mnumber = list()\n",
    "mname = list()\n",
    "trains = list()\n",
    "tests = list()"
   ]
  },
  {
   "cell_type": "code",
   "execution_count": 140,
   "id": "deeccde9",
   "metadata": {},
   "outputs": [],
   "source": [
    "# Rounding percentages to two decimals and checking if model was executed\n",
    "\n",
    "def myfunc(x):\n",
    "    x = x * 100\n",
    "    return format(x,\".2f\")\n",
    "\n",
    "def executed(x):\n",
    "    if x == '0.00':\n",
    "        x = 'Not Executed'\n",
    "    return x"
   ]
  },
  {
   "cell_type": "code",
   "execution_count": 133,
   "id": "3be839c8",
   "metadata": {},
   "outputs": [],
   "source": [
    "trains = list(map(myfunc, trains))"
   ]
  },
  {
   "cell_type": "code",
   "execution_count": 141,
   "id": "1fc194a4",
   "metadata": {},
   "outputs": [],
   "source": [
    "trains = list(map(executed, trains))"
   ]
  },
  {
   "cell_type": "code",
   "execution_count": 134,
   "id": "6944fded",
   "metadata": {},
   "outputs": [],
   "source": [
    "tests = list(map(myfunc, tests))"
   ]
  },
  {
   "cell_type": "code",
   "execution_count": 142,
   "id": "62b0b547",
   "metadata": {},
   "outputs": [],
   "source": [
    "tests = list(map(executed, tests))"
   ]
  },
  {
   "cell_type": "code",
   "execution_count": 143,
   "id": "cc970b47",
   "metadata": {},
   "outputs": [],
   "source": [
    "results_dict = {\"Model No.\": mnumber, \"Model name\": mname,\n",
    "               \"Training Accuracy\": trains, \"Testing Accuracy\": tests}"
   ]
  },
  {
   "cell_type": "code",
   "execution_count": null,
   "id": "b725e069",
   "metadata": {},
   "outputs": [],
   "source": []
  }
 ],
 "metadata": {
  "kernelspec": {
   "display_name": "Python 3 (ipykernel)",
   "language": "python",
   "name": "python3"
  },
  "language_info": {
   "codemirror_mode": {
    "name": "ipython",
    "version": 3
   },
   "file_extension": ".py",
   "mimetype": "text/x-python",
   "name": "python",
   "nbconvert_exporter": "python",
   "pygments_lexer": "ipython3",
   "version": "3.9.12"
  }
 },
 "nbformat": 4,
 "nbformat_minor": 5
}
